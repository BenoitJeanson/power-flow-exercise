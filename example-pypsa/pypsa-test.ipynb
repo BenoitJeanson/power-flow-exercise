{
 "cells": [
  {
   "cell_type": "markdown",
   "id": "32eedba9-4b1c-4513-ba30-e6ddaaa80c7a",
   "metadata": {},
   "source": [
    "# Imports and helper functions"
   ]
  },
  {
   "cell_type": "markdown",
   "id": "e2a8de2d-7d5a-43e9-afb6-21453c44ed93",
   "metadata": {},
   "source": [
    "To import packages and modules to Jupyter notebook, you need to setup a conda environment. Here we call it `gpst`.\n",
    "```\n",
    "conda create --name gpst\n",
    "conda install pypsa pandapower jupyterlab\n",
    "pip install yaml vresutils==0.3.1\n",
    "```\n",
    "Upgrade to pandapower to develop branch\n",
    "```\n",
    "pip install git+git://github.com:e2nIEE/pandapower@develop\n",
    "```\n",
    "To  add the kernel for the jupyter notebook\n",
    "```\n",
    "pip install ipykernel\n",
    "ipython kernel install --user --name=gpst\n",
    "```\n",
    "\n",
    "Open the jupyter lab notebook by typing `jupyter lab` in the terminal.\n"
   ]
  },
  {
   "cell_type": "code",
   "execution_count": null,
   "id": "858d6c24-8cde-40e6-bbee-7604defef6ad",
   "metadata": {},
   "outputs": [],
   "source": [
    "import os\n",
    "import timeit\n",
    "import pandas as pd\n",
    "\n",
    "import numpy as np\n",
    "import pandapower as pp\n",
    "import pandapower.converter\n",
    "        \n",
    "import logging\n",
    "\n",
    "# Show all pandas columns in jupyter\n",
    "pd.set_option(\"display.max_columns\", None)\n",
    "pd.set_option(\"display.max_rows\", 8)"
   ]
  },
  {
   "cell_type": "code",
   "execution_count": null,
   "id": "3e0ea5d5-993c-4f36-b988-42b795ce7a76",
   "metadata": {},
   "outputs": [],
   "source": [
    "# Optional. Take local PyPSA-Dev installation to make adjustments\n",
    "pypsa_path = os.getcwd()+\"/PyPSA\"  # require to have `PyPSA` cloned in ~/power-flow-exercise/example_pandapower/<PyPSA>`\n",
    "import sys\n",
    "sys.path.insert(0, f\"{pypsa_path}\")"
   ]
  },
  {
   "cell_type": "code",
   "execution_count": null,
   "id": "0c6eb26f-cb09-4ce6-a9e1-9109712eb37e",
   "metadata": {},
   "outputs": [],
   "source": [
    "import pypsa"
   ]
  },
  {
   "cell_type": "code",
   "execution_count": null,
   "id": "fec86cce-639b-4378-9134-d397292b6652",
   "metadata": {},
   "outputs": [],
   "source": [
    "def _sets_path_to_root(root_directory_name):\n",
    "    \"\"\"\n",
    "    Search and sets path to the given root directory (root/path/file).\n",
    "\n",
    "    Parameters\n",
    "    ----------\n",
    "    root_directory_name : str\n",
    "        Name of the root directory.\n",
    "    n : int\n",
    "        Number of folders the function will check upwards/root directed.\n",
    "\n",
    "    \"\"\"\n",
    "    import os\n",
    "\n",
    "    repo_name = root_directory_name\n",
    "    n = 8  # check max 8 levels above. Random default.\n",
    "    n0 = n\n",
    "\n",
    "    while n >= 0:\n",
    "        n -= 1\n",
    "        # if repo_name is current folder name, stop and set path\n",
    "        if repo_name == os.path.basename(os.path.abspath(\".\")):\n",
    "            repo_path = os.getcwd()  # os.getcwd() = current_path\n",
    "            os.chdir(repo_path)  # change dir_path to repo_path\n",
    "            print(\"This is the repository path: \", repo_path)\n",
    "            print(\"Had to go %d folder(s) up.\" % (n0 - 1 - n))\n",
    "            break\n",
    "        # if repo_name NOT current folder name for 5 levels then stop\n",
    "        if n == 0:\n",
    "            print(\"Cant find the repo path.\")\n",
    "        # if repo_name NOT current folder name, go one dir higher\n",
    "        else:\n",
    "            upper_path = os.path.dirname(\n",
    "                os.path.abspath(\".\"))  # name of upper folder\n",
    "            os.chdir(upper_path)"
   ]
  },
  {
   "cell_type": "code",
   "execution_count": null,
   "id": "32ceef4b-72a6-40fd-bae9-d8e50578851e",
   "metadata": {},
   "outputs": [],
   "source": [
    "_sets_path_to_root(\"power-flow-exercise\")  # name of the git # n.generators_t.p_set = clone folder"
   ]
  },
  {
   "cell_type": "code",
   "execution_count": null,
   "id": "947b61dc-f543-4601-ab01-2c34807e1379",
   "metadata": {},
   "outputs": [],
   "source": [
    "# Set logger\n",
    "logging.basicConfig(filename=os.path.join(\"example_pandapower\", \"log.out\"),\n",
    "                    filemode='w',\n",
    "                    format='%(asctime)s %(name)s %(levelname)s %(message)s',\n",
    "                    datefmt='%H:%M:%S',\n",
    "                    level=logging.INFO)\n",
    "\n",
    "logger = logging.getLogger(__name__)"
   ]
  },
  {
   "cell_type": "markdown",
   "id": "336e4950-50c5-46e3-8886-8475841f377b",
   "metadata": {},
   "source": [
    "# Pandapower import of Matpower"
   ]
  },
  {
   "cell_type": "code",
   "execution_count": null,
   "id": "e608c8f6-7ea5-435f-848e-b389bf4be0f0",
   "metadata": {},
   "outputs": [],
   "source": [
    "net = pp.converter.from_mpc(os.path.join(\"reference-matpower\", \"RTS_GMLC.mat\"))"
   ]
  },
  {
   "cell_type": "markdown",
   "id": "875bf3bb-ad72-40d4-8269-3be51f2866fc",
   "metadata": {},
   "source": [
    "# Comparing Pandapower to solved Matpower network"
   ]
  },
  {
   "cell_type": "code",
   "execution_count": null,
   "id": "540bbed8-6ec2-4028-a07b-e0a311dba575",
   "metadata": {},
   "outputs": [],
   "source": [
    "def compare_to_matpower(net):\n",
    "    \"\"\"\n",
    "    Compares pandapower network to matpower network.\n",
    "    \"\"\"\n",
    "    bus_results = pd.read_csv(os.path.join(\"reference-matpower\", \"results\", \"bus.csv\"), index_col=0)\n",
    "    branch_results = pd.read_csv(os.path.join(\"reference-matpower\", \"results\", \"flow.csv\"), index_col=0)\n",
    "\n",
    "    # compare bus results\n",
    "    # merged_results = pd.merge(bus_results, net.res_bus, how='inner', left_index=True, right_on=net.bus.id)\n",
    "    merged_results = pd.merge(bus_results, net.res_bus, how='inner', left_index=True, right_on=net.bus.name)\n",
    "    merged_results['diff_vm_pu'] = merged_results.v_mag - merged_results.vm_pu\n",
    "    merged_results['diff_va_degree'] = merged_results.v_ang - merged_results.va_degree\n",
    "    logger.info(f\"\\n{merged_results[['diff_vm_pu', 'diff_va_degree']].describe()}\")\n",
    "\n",
    "    # compare branch results\n",
    "    merged_results_line = pd.merge(branch_results, net.res_line, how='inner', left_index=True, right_index=True)\n",
    "    merged_results_line['diff_from_p_mw'] = merged_results_line.p_from_mw - merged_results_line.from_bus_inj_p\n",
    "    merged_results_line['diff_to_p_mw'] = merged_results_line.p_to_mw - merged_results_line.to_bus_inj_p\n",
    "    merged_results_line['diff_from_q_mvar'] = merged_results_line.q_from_mvar - merged_results_line.from_bus_inj_q\n",
    "    merged_results_line['diff_to_q_mvar'] = merged_results_line.q_to_mvar - merged_results_line.to_bus_inj_q\n",
    "    merged_results_line['diff_loss_p'] = merged_results_line.pl_mw - merged_results_line.loss_p\n",
    "    cols = ['diff_from_p_mw', 'diff_to_p_mw', 'diff_from_q_mvar', 'diff_to_q_mvar', 'diff_loss_p']\n",
    "    logger.info(f\"\\n{merged_results_line[cols].describe()}\")"
   ]
  },
  {
   "cell_type": "code",
   "execution_count": null,
   "id": "22549da8-9bda-4c47-8604-8608ddcdb8e7",
   "metadata": {},
   "outputs": [],
   "source": [
    "net.sgen.drop(net.sgen[~net.sgen.in_service].index, inplace=True)  # TODO: check if this is correct (dropping not in_service elements from net.sgen\n",
    "pp.runpp(net)\n",
    "compare_to_matpower(net)  # Info: Will be saved in logger 'log.out'"
   ]
  },
  {
   "cell_type": "markdown",
   "id": "7524827d-b29a-43ae-b344-6b2b0d4e3b27",
   "metadata": {},
   "source": [
    "# Prepare Pandapower network"
   ]
  },
  {
   "cell_type": "code",
   "execution_count": null,
   "id": "0f5927b0-f52b-42d8-bf18-fd1a78b4fc06",
   "metadata": {},
   "outputs": [],
   "source": [
    "def make_name_to_index(net):\n",
    "    \"\"\"\n",
    "    Makes name as index.\n",
    "    \n",
    "    PyPSA requires a unique name as index.\n",
    "    \"\"\"\n",
    "    for elm in net.keys():\n",
    "        if elm.startswith(\"_\") or not isinstance(net[elm], pd.DataFrame) or len(net[elm]) == 0:\n",
    "            continue\n",
    "        # let's keep the bus names from mpc\n",
    "        if elm == 'bus':\n",
    "            continue\n",
    "        net[elm]['name'] = [f\"{elm}_{i}\" for i in net[elm].index.values]\n",
    "        # checking because in_service not supported by pypsa\n",
    "        if 'in_service' in net[elm].columns:\n",
    "            assert np.alltrue(net[elm]['in_service']), f\"not in_service elements found in {elm}\"\n",
    "        # checking because switches are not supported by pypsa\n",
    "        if elm == 'switch':\n",
    "            assert np.alltrue(net[elm]['closed']), \"open switches found\"\n",
    "        if elm == \"trafo3w\" and len(net[elm]) > 0:\n",
    "            logger.warning(\"found trafo3w in net (not supported by pypsa converter!!!)\")\n",
    "        if elm == \"shunt\" and len(net[elm]) > 0:\n",
    "            logger.warning(\"found shunt in net (not supported by pypsa converter!!!)\")"
   ]
  },
  {
   "cell_type": "code",
   "execution_count": null,
   "id": "79fcb05f-b4d0-4691-ac27-7686689bdff1",
   "metadata": {},
   "outputs": [],
   "source": [
    "make_name_to_index(net)"
   ]
  },
  {
   "cell_type": "markdown",
   "id": "d5df6e18-ea1a-4f77-b1dd-ab44e3241413",
   "metadata": {},
   "source": [
    "# PyPSA import of Pandapower network"
   ]
  },
  {
   "cell_type": "code",
   "execution_count": null,
   "id": "6417bfdc-b175-456b-8354-3941bd505100",
   "metadata": {},
   "outputs": [],
   "source": [
    "# Build empty PyPSA network\n",
    "network = pypsa.Network()\n",
    "# Import pandapower\n",
    "network.import_from_pandapower_net(net, True)"
   ]
  },
  {
   "cell_type": "markdown",
   "id": "82b28267-6c3e-4f77-b37b-9ebc376877c0",
   "metadata": {},
   "source": [
    "### Checks if import is correct"
   ]
  },
  {
   "cell_type": "code",
   "execution_count": null,
   "id": "39a0d510-57bf-48a0-8893-c9201bea42e7",
   "metadata": {},
   "outputs": [],
   "source": [
    "# now let's check some basic infos\n",
    "assert len(network.buses) == len(net.bus)\n",
    "assert len(network.generators) == (len(net.gen) + len(net.sgen) + len(net.ext_grid))\n",
    "assert len(network.loads) == len(net.load)\n",
    "assert len(network.transformers) == len(net.trafo)\n",
    "# todo: shunt impedances are not supported\n",
    "# todo: trafo tap positions are not supported\n",
    "# todo: trafo3w are not supported"
   ]
  },
  {
   "cell_type": "markdown",
   "id": "14024674-efb4-4ff2-8bf5-584b57fa420c",
   "metadata": {},
   "source": [
    "# Inspect PyPSA network before solving"
   ]
  },
  {
   "cell_type": "code",
   "execution_count": null,
   "id": "f4981e71-fa48-4ad7-a6e7-3e94f3d17547",
   "metadata": {},
   "outputs": [],
   "source": [
    "n = network"
   ]
  },
  {
   "cell_type": "code",
   "execution_count": null,
   "id": "3ad25920-26c8-47c3-be9d-01b71c88819c",
   "metadata": {},
   "outputs": [],
   "source": [
    "n.snapshots"
   ]
  },
  {
   "cell_type": "code",
   "execution_count": null,
   "id": "eb7fc2e8-1008-4b39-8be6-6a6d5254700f",
   "metadata": {},
   "outputs": [],
   "source": [
    "n.global_constraints"
   ]
  },
  {
   "cell_type": "code",
   "execution_count": null,
   "id": "a0d3c60f-f340-493e-aa09-0df77c81fb22",
   "metadata": {},
   "outputs": [],
   "source": [
    "n.buses"
   ]
  },
  {
   "cell_type": "code",
   "execution_count": null,
   "id": "756e5e5a-3580-48d9-aacb-13cf288fa798",
   "metadata": {},
   "outputs": [],
   "source": [
    "n.generators"
   ]
  },
  {
   "cell_type": "code",
   "execution_count": null,
   "id": "307de419-2008-4bd7-9326-4146b63190dd",
   "metadata": {},
   "outputs": [],
   "source": [
    "n.loads_t"
   ]
  },
  {
   "cell_type": "code",
   "execution_count": null,
   "id": "ee9c3cd4-adb0-451e-9597-23cb4e84ad1f",
   "metadata": {},
   "outputs": [],
   "source": [
    "n.lines"
   ]
  },
  {
   "cell_type": "code",
   "execution_count": null,
   "id": "335d9ee9-d384-4c6e-8bd2-78b34f4b70ed",
   "metadata": {},
   "outputs": [],
   "source": [
    "n.transformers"
   ]
  },
  {
   "cell_type": "code",
   "execution_count": null,
   "id": "d1d89b18-2bf6-4477-bb39-dcf8a4cca7ef",
   "metadata": {},
   "outputs": [],
   "source": [
    "n.links"
   ]
  },
  {
   "cell_type": "code",
   "execution_count": null,
   "id": "68e39326-b1da-47ca-84b4-a6974734e334",
   "metadata": {},
   "outputs": [],
   "source": [
    "n.stores"
   ]
  },
  {
   "cell_type": "code",
   "execution_count": null,
   "id": "da7c3e56-c9b4-45f1-8407-f28234beb0a3",
   "metadata": {},
   "outputs": [],
   "source": [
    "n.storage_units"
   ]
  },
  {
   "cell_type": "code",
   "execution_count": null,
   "id": "dd322e13-4a6a-4d21-93e0-909f8172d7f9",
   "metadata": {},
   "outputs": [],
   "source": [
    "n.shunt_impedances"
   ]
  },
  {
   "cell_type": "code",
   "execution_count": null,
   "id": "4e1fb5f5-4979-4808-931a-be7ec8869fae",
   "metadata": {},
   "outputs": [],
   "source": [
    "n.carriers"
   ]
  },
  {
   "cell_type": "markdown",
   "id": "acfce357",
   "metadata": {},
   "source": [
    "# Adjustment of pandapower network"
   ]
  },
  {
   "cell_type": "code",
   "execution_count": null,
   "id": "d6cc9bd0",
   "metadata": {},
   "outputs": [],
   "source": [
    "n.generators.loc[:,\"p_set\"] = abs(n.generators.loc[:,\"p_set\"])\n"
   ]
  },
  {
   "cell_type": "code",
   "execution_count": null,
   "id": "3c348735",
   "metadata": {},
   "outputs": [],
   "source": [
    "pandanet = n.copy()"
   ]
  },
  {
   "cell_type": "code",
   "execution_count": null,
   "id": "63b41520",
   "metadata": {},
   "outputs": [],
   "source": [
    "pandanet.buses"
   ]
  },
  {
   "cell_type": "code",
   "execution_count": null,
   "id": "bd601792",
   "metadata": {},
   "outputs": [],
   "source": [
    "n.mremove(\"Load\", pandanet.loads.index.values)"
   ]
  },
  {
   "cell_type": "code",
   "execution_count": null,
   "id": "74807d1e",
   "metadata": {},
   "outputs": [],
   "source": [
    "n.madd(\"Load\", pandanet.loads.index.values,\n",
    "\n",
    "       bus=pandanet.loads.bus.values,\n",
    "\n",
    "       p_set=pandanet.loads.p_set.values)"
   ]
  },
  {
   "cell_type": "code",
   "execution_count": null,
   "id": "1765b58f",
   "metadata": {},
   "outputs": [],
   "source": [
    "n.loads_t.p_set = n.loads_t.p"
   ]
  },
  {
   "cell_type": "code",
   "execution_count": null,
   "id": "0914269d",
   "metadata": {},
   "outputs": [],
   "source": [
    "n.generators_t.p_set = n.generators_t.p"
   ]
  },
  {
   "cell_type": "code",
   "execution_count": null,
   "id": "8c2720f0",
   "metadata": {},
   "outputs": [],
   "source": [
    "n.loads_t"
   ]
  },
  {
   "cell_type": "markdown",
   "id": "a163d09b-61bf-4828-b4a5-d0d6c9c9551b",
   "metadata": {},
   "source": [
    "# Solve network"
   ]
  },
  {
   "cell_type": "code",
   "execution_count": null,
   "id": "567cf60a-8a51-41a7-a25e-a2cda3d883f2",
   "metadata": {},
   "outputs": [],
   "source": [
    "#n.lopf()\n",
    "#n.pf(use_seed=True)\n",
    "n.pf()"
   ]
  },
  {
   "cell_type": "markdown",
   "id": "443bb893",
   "metadata": {},
   "source": [
    "# Planning Exercise Test"
   ]
  },
  {
   "cell_type": "markdown",
   "id": "daf46101",
   "metadata": {},
   "source": [
    "### Load cost.csv"
   ]
  },
  {
   "cell_type": "code",
   "execution_count": null,
   "id": "01622dbf",
   "metadata": {},
   "outputs": [],
   "source": [
    "import yaml\n",
    "from vresutils.costdata import annuity"
   ]
  },
  {
   "cell_type": "code",
   "execution_count": null,
   "id": "315d7b29",
   "metadata": {},
   "outputs": [],
   "source": [
    "def load_costs(Nyears=1., tech_costs=None, config=None, elec_config=None):\n",
    "    if tech_costs is None:\n",
    "        tech_costs = os.getcwd()+\"/example-pypsa/costs.csv\"\n",
    "\n",
    "    if config is None:\n",
    "        ### Loads raw config.yaml\n",
    "        path = os.getcwd()+\"/example-pypsa/config.yaml\"\n",
    "        with open(path, \"r\") as stream:\n",
    "            try:\n",
    "                config = yaml.safe_load(stream)\n",
    "            except yaml.YAMLError as exc:\n",
    "                print(exc)\n",
    "        config = config['costs']\n",
    "\n",
    "    # set all asset costs and other parameters\n",
    "    costs = pd.read_csv(tech_costs, index_col=list(range(3))).sort_index()\n",
    "\n",
    "    # correct units to MW and EUR\n",
    "    costs.loc[costs.unit.str.contains(\"/kW\"),\"value\"] *= 1e3\n",
    "    costs.loc[costs.unit.str.contains(\"USD\"),\"value\"] *= config['USD2013_to_EUR2013']\n",
    "\n",
    "    idx = pd.IndexSlice\n",
    "    costs = (costs.loc[idx[:,config['year'],:], \"value\"]\n",
    "             .unstack(level=2).groupby(\"technology\").sum(min_count=1))\n",
    "\n",
    "    costs = costs.fillna({\"CO2 intensity\" : 0,\n",
    "                          \"FOM\" : 0,\n",
    "                          \"VOM\" : 0,\n",
    "                          \"discount rate\" : config['discountrate'],\n",
    "                          \"efficiency\" : 1,\n",
    "                          \"fuel\" : 0,\n",
    "                          \"investment\" : 0,\n",
    "                          \"lifetime\" : 25})\n",
    "\n",
    "    costs[\"capital_cost\"] = ((annuity(costs[\"lifetime\"], costs[\"discount rate\"]) +\n",
    "                             costs[\"FOM\"]/100.) *\n",
    "                             costs[\"investment\"] * Nyears)\n",
    "\n",
    "    costs.at['OCGT', 'fuel'] = costs.at['gas', 'fuel']\n",
    "    costs.at['CCGT', 'fuel'] = costs.at['gas', 'fuel']\n",
    "\n",
    "    costs['marginal_cost'] = costs['VOM'] + costs['fuel'] / costs['efficiency']\n",
    "\n",
    "    costs = costs.rename(columns={\"CO2 intensity\": \"co2_emissions\"})\n",
    "\n",
    "    costs.at['OCGT', 'co2_emissions'] = costs.at['gas', 'co2_emissions']\n",
    "    costs.at['CCGT', 'co2_emissions'] = costs.at['gas', 'co2_emissions']\n",
    "\n",
    "    costs.at['solar', 'capital_cost'] = 0.5*(costs.at['solar-rooftop', 'capital_cost'] +\n",
    "                                             costs.at['solar-utility', 'capital_cost'])\n",
    "\n",
    "    return costs"
   ]
  },
  {
   "cell_type": "code",
   "execution_count": null,
   "id": "40f0f6d4",
   "metadata": {},
   "outputs": [],
   "source": [
    "def add_nice_carrier_names(n, config=None):\n",
    "    if config is None:\n",
    "        path = os.getcwd()+\"/example-pypsa/config.yaml\"\n",
    "        with open(path, \"r\") as stream:\n",
    "            try:\n",
    "                config = yaml.safe_load(stream)\n",
    "            except yaml.YAMLError as exc:\n",
    "                print(exc)\n",
    "        config = config\n",
    "\n",
    "    carrier_i = n.carriers.index\n",
    "    nice_names = (pd.Series(config['plotting']['nice_names'])\n",
    "                  .reindex(carrier_i).fillna(carrier_i.to_series().str.title()))\n",
    "    n.carriers['nice_name'] = nice_names\n",
    "    colors = pd.Series(config['plotting']['tech_colors']).reindex(carrier_i)\n",
    "    if colors.isna().any():\n",
    "        missing_i = list(colors.index[colors.isna()])\n",
    "        logger.warning(f'tech_colors for carriers {missing_i} not defined '\n",
    "                       'in config.')\n",
    "    n.carriers['color'] = colors"
   ]
  },
  {
   "cell_type": "code",
   "execution_count": null,
   "id": "6f0cfbc7",
   "metadata": {},
   "outputs": [],
   "source": [
    "costs = load_costs()"
   ]
  },
  {
   "cell_type": "code",
   "execution_count": null,
   "id": "ba8ba755",
   "metadata": {},
   "outputs": [],
   "source": [
    "add_nice_carrier_names(n)"
   ]
  },
  {
   "cell_type": "code",
   "execution_count": null,
   "id": "98ca043f",
   "metadata": {},
   "outputs": [],
   "source": [
    "n.generators.loc[:,\"carrier\"] = \"OCGT\"\n",
    "n.generators.loc[:,\"capital_costs\"] = costs.loc[\"OCGT\", \"capital_cost\"]\n",
    "n.generators.loc[:,\"marginal_costs\"] = costs.loc[\"OCGT\", \"marginal_cost\"]\n",
    "n.generators.loc[:,\"lifetime\"] = costs.loc[\"OCGT\", \"lifetime\"]\n",
    "n.generators.loc[:,\"p_nom_extanable\"] = \"True\"\n",
    "\n",
    "\n",
    "n.lines.loc[:,'capital_cost'] = (n.lines['length'] * 1 * costs.at['HVAC overhead', 'capital_cost'])\n",
    "n.lines.loc[:,\"s_nom_extanable\"] = \"True\"\n",
    "\n",
    "\n",
    "n.transformers.loc[:,\"s_nom_extanable\"] = \"True\"\n",
    "\n",
    "\n",
    "n.loads_t[\"p\"] = n.loads_t[\"p\"] * 5\n",
    "n.loads[\"p_set\"] = n.loads[\"p_set\"] * 5"
   ]
  },
  {
   "cell_type": "markdown",
   "id": "7d77931c",
   "metadata": {},
   "source": [
    "# Solve network"
   ]
  },
  {
   "cell_type": "code",
   "execution_count": null,
   "id": "c793ddf1",
   "metadata": {},
   "outputs": [],
   "source": [
    "from pypsa.linopf import (get_var, define_constraints, linexpr, join_exprs,\n",
    "                          network_lopf, ilopf)"
   ]
  },
  {
   "cell_type": "code",
   "execution_count": null,
   "id": "125ca0f4",
   "metadata": {},
   "outputs": [],
   "source": [
    "### Loads raw config.yaml\n",
    "path = os.getcwd()+\"/example-pypsa/config.yaml\"\n",
    "with open(path, \"r\") as stream:\n",
    "    try:\n",
    "        config = yaml.safe_load(stream)\n",
    "    except yaml.YAMLError as exc:\n",
    "        print(exc)\n",
    "config = config"
   ]
  },
  {
   "cell_type": "code",
   "execution_count": null,
   "id": "c468c951",
   "metadata": {},
   "outputs": [],
   "source": [
    "def fix_bus_production(n, snapshots):\n",
    "    total_demand = n.loads_t.p.sum().sum() \n",
    "    prod_per_bus = linexpr((1, get_var(n, 'Generator', 'p'))).groupby(n.generators.bus, axis=1).apply(join_exprs)\n",
    "    define_constraints(n, prod_per_bus, '>=', total_demand/5, 'Bus', 'production_share')\n",
    "\n",
    "def extra_functionality(n, snapshots):\n",
    "    fix_bus_production(n, snapshots)"
   ]
  },
  {
   "cell_type": "code",
   "execution_count": null,
   "id": "862a57c7",
   "metadata": {},
   "outputs": [],
   "source": [
    "def solve_network(n, config, opts='', **kwargs):\n",
    "    solver_options = config['solving']['solver'].copy()\n",
    "    solver_name = solver_options.pop('name')\n",
    "    cf_solving = config['solving']['options']\n",
    "    track_iterations = cf_solving.get('track_iterations', False)\n",
    "    min_iterations = cf_solving.get('min_iterations', 4)\n",
    "    max_iterations = cf_solving.get('max_iterations', 6)\n",
    "\n",
    "    # add to network for extra_functionality\n",
    "    n.config = config\n",
    "    n.opts = opts\n",
    "\n",
    "    if cf_solving.get('skip_iterations', False):\n",
    "        network_lopf(n, solver_name=solver_name, solver_options=solver_options,\n",
    "                     extra_functionality=extra_functionality, **kwargs)\n",
    "    else:\n",
    "        ilopf(n, solver_name=solver_name, solver_options=solver_options,\n",
    "              track_iterations=track_iterations,\n",
    "              min_iterations=min_iterations,\n",
    "              max_iterations=max_iterations,\n",
    "              extra_functionality=extra_functionality, **kwargs)\n",
    "    return n\n"
   ]
  },
  {
   "cell_type": "code",
   "execution_count": null,
   "id": "8ccf5e10",
   "metadata": {},
   "outputs": [],
   "source": [
    "from pathlib import Path\n",
    "\n",
    "tmpdir = config['solving'].get('tmpdir')\n",
    "if tmpdir is not None:\n",
    "        Path(tmpdir).mkdir(parents=True, exist_ok=True)\n",
    "\n",
    "n = solve_network(n, config=config,\n",
    "                          solver_dir=tmpdir,)"
   ]
  },
  {
   "cell_type": "code",
   "execution_count": null,
   "id": "b0cdb62e",
   "metadata": {},
   "outputs": [],
   "source": []
  }
 ],
 "metadata": {
  "interpreter": {
   "hash": "87a4a8180df0bdbc0f54f506183c750714b192458af4e65da2f1fb2502628bca"
  },
  "kernelspec": {
   "display_name": "gpst",
   "language": "python",
   "name": "python3"
  },
  "language_info": {
   "codemirror_mode": {
    "name": "ipython",
    "version": 3
   },
   "file_extension": ".py",
   "mimetype": "text/x-python",
   "name": "python",
   "nbconvert_exporter": "python",
   "pygments_lexer": "ipython3",
   "version": "3.9.9"
  }
 },
 "nbformat": 4,
 "nbformat_minor": 5
}
