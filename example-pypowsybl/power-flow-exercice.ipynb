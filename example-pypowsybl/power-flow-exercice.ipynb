{
 "cells": [
  {
   "cell_type": "code",
   "execution_count": 2,
   "metadata": {},
   "outputs": [
    {
     "name": "stdout",
     "output_type": "stream",
     "text": [
      "93.5 ms ± 37.1 ms per loop (mean ± std. dev. of 7 runs, 1 loop each)\n",
      "9.02 ms ± 1.54 ms per loop (mean ± std. dev. of 7 runs, 100 loops each)\n"
     ]
    },
    {
     "data": {
      "text/plain": [
       "[LoadFlowComponentResult(connected_component_num=0, synchronous_component_num=0, status=CONVERGED, iteration_count=5, slack_bus_id='VL-121_0', slack_bus_active_power_mismatch=-0.0019049011829253004)]"
      ]
     },
     "execution_count": 2,
     "metadata": {},
     "output_type": "execute_result"
    }
   ],
   "source": [
    "import pypowsybl as pp\n",
    "%timeit pp.network.load(\"./resources/RTS_GMLC.mat\")\n",
    "network = pp.network.load(\"./resources/RTS_GMLC.mat\")\n",
    "%timeit pp.loadflow.run_ac(network)\n",
    "result = pp.loadflow.run_ac(network)\n",
    "result\n"
   ]
  },
  {
   "cell_type": "code",
   "execution_count": 3,
   "metadata": {},
   "outputs": [],
   "source": [
    "from importlib import reload\n",
    "import script.pypowsybleexample as ppe\n",
    "reload(ppe)\n",
    "ppe.write_output(network,'results/')"
   ]
  },
  {
   "cell_type": "code",
   "execution_count": 5,
   "metadata": {},
   "outputs": [
    {
     "data": {
      "text/html": [
       "<div>\n",
       "<style scoped>\n",
       "    .dataframe tbody tr th:only-of-type {\n",
       "        vertical-align: middle;\n",
       "    }\n",
       "\n",
       "    .dataframe tbody tr th {\n",
       "        vertical-align: top;\n",
       "    }\n",
       "\n",
       "    .dataframe thead th {\n",
       "        text-align: right;\n",
       "    }\n",
       "</style>\n",
       "<table border=\"1\" class=\"dataframe\">\n",
       "  <thead>\n",
       "    <tr style=\"text-align: right;\">\n",
       "      <th></th>\n",
       "      <th>angle</th>\n",
       "      <th>v_mag</th>\n",
       "    </tr>\n",
       "  </thead>\n",
       "  <tbody>\n",
       "    <tr>\n",
       "      <th>count</th>\n",
       "      <td>7.300000e+01</td>\n",
       "      <td>7.300000e+01</td>\n",
       "    </tr>\n",
       "    <tr>\n",
       "      <th>mean</th>\n",
       "      <td>1.917808e-04</td>\n",
       "      <td>3.802134e-17</td>\n",
       "    </tr>\n",
       "    <tr>\n",
       "      <th>std</th>\n",
       "      <td>3.964262e-04</td>\n",
       "      <td>8.111971e-17</td>\n",
       "    </tr>\n",
       "    <tr>\n",
       "      <th>min</th>\n",
       "      <td>0.000000e+00</td>\n",
       "      <td>0.000000e+00</td>\n",
       "    </tr>\n",
       "    <tr>\n",
       "      <th>25%</th>\n",
       "      <td>0.000000e+00</td>\n",
       "      <td>0.000000e+00</td>\n",
       "    </tr>\n",
       "    <tr>\n",
       "      <th>50%</th>\n",
       "      <td>0.000000e+00</td>\n",
       "      <td>0.000000e+00</td>\n",
       "    </tr>\n",
       "    <tr>\n",
       "      <th>75%</th>\n",
       "      <td>1.776357e-15</td>\n",
       "      <td>0.000000e+00</td>\n",
       "    </tr>\n",
       "    <tr>\n",
       "      <th>max</th>\n",
       "      <td>1.000000e-03</td>\n",
       "      <td>2.220446e-16</td>\n",
       "    </tr>\n",
       "  </tbody>\n",
       "</table>\n",
       "</div>"
      ],
      "text/plain": [
       "              angle         v_mag\n",
       "count  7.300000e+01  7.300000e+01\n",
       "mean   1.917808e-04  3.802134e-17\n",
       "std    3.964262e-04  8.111971e-17\n",
       "min    0.000000e+00  0.000000e+00\n",
       "25%    0.000000e+00  0.000000e+00\n",
       "50%    0.000000e+00  0.000000e+00\n",
       "75%    1.776357e-15  0.000000e+00\n",
       "max    1.000000e-03  2.220446e-16"
      ]
     },
     "execution_count": 5,
     "metadata": {},
     "output_type": "execute_result"
    }
   ],
   "source": [
    "import pandas as pd\n",
    "from importlib import reload\n",
    "import script.pypowsybleexample as ppe\n",
    "reload(ppe)\n",
    "\n",
    "slack_angle_delta = - 10.564 #slack_bus is 121 for pypowsybl which has 10.534 deg in matPow result\n",
    "\n",
    "bus = ppe.output_buses(network)\n",
    "ref = pd.read_csv(\"../reference-matpower/results/bus.csv\")\n",
    "\n",
    "compare = pd.DataFrame(abs(bus['v_angle'] - ref['v_ang']  - slack_angle_delta),ref.index,['angle'])\n",
    "compare ['v_mag'] = pd.DataFrame(abs(bus['v_mag'] - ref['v_mag']))\n",
    "\n",
    "compare.describe()\n"
   ]
  }
 ],
 "metadata": {
  "interpreter": {
   "hash": "0074f9c4d90ae19944f0ef2bd9e2b32bea0824a734f1197906463fbb7c85314f"
  },
  "kernelspec": {
   "display_name": "Python 3.7.2 64-bit",
   "language": "python",
   "name": "python3"
  },
  "language_info": {
   "codemirror_mode": {
    "name": "ipython",
    "version": 3
   },
   "file_extension": ".py",
   "mimetype": "text/x-python",
   "name": "python",
   "nbconvert_exporter": "python",
   "pygments_lexer": "ipython3",
   "version": "3.7.2"
  },
  "orig_nbformat": 4
 },
 "nbformat": 4,
 "nbformat_minor": 2
}
